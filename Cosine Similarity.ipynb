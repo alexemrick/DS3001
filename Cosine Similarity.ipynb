{
 "cells": [
  {
   "cell_type": "code",
   "execution_count": 1,
   "metadata": {},
   "outputs": [],
   "source": [
    "import pandas as pd\n",
    "from sklearn.metrics.pairwise import cosine_similarity\n",
    "import matplotlib.pyplot as plt\n",
    "import seaborn as sns\n",
    "import numpy as np\n",
    "%matplotlib inline"
   ]
  },
  {
   "cell_type": "code",
   "execution_count": 14,
   "metadata": {},
   "outputs": [],
   "source": [
    "df = pd.read_csv('all_data.csv')"
   ]
  },
  {
   "cell_type": "code",
   "execution_count": 15,
   "metadata": {},
   "outputs": [
    {
     "data": {
      "text/html": [
       "<div>\n",
       "<style scoped>\n",
       "    .dataframe tbody tr th:only-of-type {\n",
       "        vertical-align: middle;\n",
       "    }\n",
       "\n",
       "    .dataframe tbody tr th {\n",
       "        vertical-align: top;\n",
       "    }\n",
       "\n",
       "    .dataframe thead th {\n",
       "        text-align: right;\n",
       "    }\n",
       "</style>\n",
       "<table border=\"1\" class=\"dataframe\">\n",
       "  <thead>\n",
       "    <tr style=\"text-align: right;\">\n",
       "      <th></th>\n",
       "      <th>key</th>\n",
       "      <th>Unnamed: 0</th>\n",
       "      <th>Unnamed: 0.1</th>\n",
       "      <th>Unnamed: 0.1.1</th>\n",
       "      <th>nickname</th>\n",
       "      <th>rookie_year</th>\n",
       "      <th>state_prov</th>\n",
       "      <th>team_number</th>\n",
       "      <th>events</th>\n",
       "      <th>OPR</th>\n",
       "      <th>DPR</th>\n",
       "      <th>CCWM</th>\n",
       "      <th>RankingPoints</th>\n",
       "      <th>Wins</th>\n",
       "      <th>Losses</th>\n",
       "      <th>Ties</th>\n",
       "      <th>ClimbPoints</th>\n",
       "      <th>AutoPoints</th>\n",
       "      <th>OwnershipPoints</th>\n",
       "      <th>VaultPoints</th>\n",
       "    </tr>\n",
       "  </thead>\n",
       "  <tbody>\n",
       "    <tr>\n",
       "      <th>0</th>\n",
       "      <td>frc1</td>\n",
       "      <td>0</td>\n",
       "      <td>0</td>\n",
       "      <td>0</td>\n",
       "      <td>The Juggernauts</td>\n",
       "      <td>1997.0</td>\n",
       "      <td>Michigan</td>\n",
       "      <td>1</td>\n",
       "      <td>['2018miket', '2018miwat']</td>\n",
       "      <td>95.602681</td>\n",
       "      <td>63.155491</td>\n",
       "      <td>32.447190</td>\n",
       "      <td>20.500000</td>\n",
       "      <td>8.0</td>\n",
       "      <td>4.0</td>\n",
       "      <td>0.00</td>\n",
       "      <td>432.500000</td>\n",
       "      <td>237.000000</td>\n",
       "      <td>2508.500000</td>\n",
       "      <td>280.000000</td>\n",
       "    </tr>\n",
       "    <tr>\n",
       "      <th>1</th>\n",
       "      <td>frc4</td>\n",
       "      <td>1</td>\n",
       "      <td>1</td>\n",
       "      <td>1</td>\n",
       "      <td>Team 4 ELEMENT</td>\n",
       "      <td>1997.0</td>\n",
       "      <td>California</td>\n",
       "      <td>4</td>\n",
       "      <td>['2018capo', '2018nvlv']</td>\n",
       "      <td>138.297845</td>\n",
       "      <td>98.333529</td>\n",
       "      <td>39.964315</td>\n",
       "      <td>14.000000</td>\n",
       "      <td>5.0</td>\n",
       "      <td>5.5</td>\n",
       "      <td>0.00</td>\n",
       "      <td>407.500000</td>\n",
       "      <td>225.000000</td>\n",
       "      <td>2077.500000</td>\n",
       "      <td>295.000000</td>\n",
       "    </tr>\n",
       "    <tr>\n",
       "      <th>2</th>\n",
       "      <td>frc8</td>\n",
       "      <td>2</td>\n",
       "      <td>2</td>\n",
       "      <td>5</td>\n",
       "      <td>Paly Robotics</td>\n",
       "      <td>1996.0</td>\n",
       "      <td>California</td>\n",
       "      <td>8</td>\n",
       "      <td>['2018azfl', '2018casj']</td>\n",
       "      <td>152.021202</td>\n",
       "      <td>61.854034</td>\n",
       "      <td>90.167168</td>\n",
       "      <td>18.500000</td>\n",
       "      <td>6.0</td>\n",
       "      <td>3.0</td>\n",
       "      <td>0.00</td>\n",
       "      <td>310.000000</td>\n",
       "      <td>282.500000</td>\n",
       "      <td>2107.000000</td>\n",
       "      <td>202.500000</td>\n",
       "    </tr>\n",
       "    <tr>\n",
       "      <th>3</th>\n",
       "      <td>frc11</td>\n",
       "      <td>3</td>\n",
       "      <td>3</td>\n",
       "      <td>8</td>\n",
       "      <td>MORT</td>\n",
       "      <td>1997.0</td>\n",
       "      <td>New Jersey</td>\n",
       "      <td>11</td>\n",
       "      <td>['2018mrcmp', '2018njfla', '2018njski', '2018q...</td>\n",
       "      <td>84.657441</td>\n",
       "      <td>102.836270</td>\n",
       "      <td>-18.178829</td>\n",
       "      <td>15.500000</td>\n",
       "      <td>5.0</td>\n",
       "      <td>6.0</td>\n",
       "      <td>0.25</td>\n",
       "      <td>517.500000</td>\n",
       "      <td>249.250000</td>\n",
       "      <td>2028.500000</td>\n",
       "      <td>325.000000</td>\n",
       "    </tr>\n",
       "    <tr>\n",
       "      <th>4</th>\n",
       "      <td>frc16</td>\n",
       "      <td>4</td>\n",
       "      <td>4</td>\n",
       "      <td>12</td>\n",
       "      <td>Bomb Squad</td>\n",
       "      <td>1996.0</td>\n",
       "      <td>Arkansas</td>\n",
       "      <td>16</td>\n",
       "      <td>['2018arli', '2018carv', '2018ilch']</td>\n",
       "      <td>195.553695</td>\n",
       "      <td>41.137266</td>\n",
       "      <td>154.416429</td>\n",
       "      <td>27.666667</td>\n",
       "      <td>8.0</td>\n",
       "      <td>2.0</td>\n",
       "      <td>0.00</td>\n",
       "      <td>626.666667</td>\n",
       "      <td>348.666667</td>\n",
       "      <td>2566.666667</td>\n",
       "      <td>303.333333</td>\n",
       "    </tr>\n",
       "  </tbody>\n",
       "</table>\n",
       "</div>"
      ],
      "text/plain": [
       "     key  Unnamed: 0  Unnamed: 0.1  Unnamed: 0.1.1         nickname  \\\n",
       "0   frc1           0             0               0  The Juggernauts   \n",
       "1   frc4           1             1               1   Team 4 ELEMENT   \n",
       "2   frc8           2             2               5    Paly Robotics   \n",
       "3  frc11           3             3               8             MORT   \n",
       "4  frc16           4             4              12       Bomb Squad   \n",
       "\n",
       "   rookie_year  state_prov  team_number  \\\n",
       "0       1997.0    Michigan            1   \n",
       "1       1997.0  California            4   \n",
       "2       1996.0  California            8   \n",
       "3       1997.0  New Jersey           11   \n",
       "4       1996.0    Arkansas           16   \n",
       "\n",
       "                                              events         OPR         DPR  \\\n",
       "0                         ['2018miket', '2018miwat']   95.602681   63.155491   \n",
       "1                           ['2018capo', '2018nvlv']  138.297845   98.333529   \n",
       "2                           ['2018azfl', '2018casj']  152.021202   61.854034   \n",
       "3  ['2018mrcmp', '2018njfla', '2018njski', '2018q...   84.657441  102.836270   \n",
       "4               ['2018arli', '2018carv', '2018ilch']  195.553695   41.137266   \n",
       "\n",
       "         CCWM  RankingPoints  Wins  Losses  Ties  ClimbPoints  AutoPoints  \\\n",
       "0   32.447190      20.500000   8.0     4.0  0.00   432.500000  237.000000   \n",
       "1   39.964315      14.000000   5.0     5.5  0.00   407.500000  225.000000   \n",
       "2   90.167168      18.500000   6.0     3.0  0.00   310.000000  282.500000   \n",
       "3  -18.178829      15.500000   5.0     6.0  0.25   517.500000  249.250000   \n",
       "4  154.416429      27.666667   8.0     2.0  0.00   626.666667  348.666667   \n",
       "\n",
       "   OwnershipPoints  VaultPoints  \n",
       "0      2508.500000   280.000000  \n",
       "1      2077.500000   295.000000  \n",
       "2      2107.000000   202.500000  \n",
       "3      2028.500000   325.000000  \n",
       "4      2566.666667   303.333333  "
      ]
     },
     "execution_count": 15,
     "metadata": {},
     "output_type": "execute_result"
    }
   ],
   "source": [
    "df.head()"
   ]
  },
  {
   "cell_type": "code",
   "execution_count": 16,
   "metadata": {},
   "outputs": [
    {
     "data": {
      "text/plain": [
       "['key',\n",
       " 'Unnamed: 0',\n",
       " 'Unnamed: 0.1',\n",
       " 'Unnamed: 0.1.1',\n",
       " 'nickname',\n",
       " 'rookie_year',\n",
       " 'state_prov',\n",
       " 'team_number',\n",
       " 'events',\n",
       " 'OPR',\n",
       " 'DPR',\n",
       " 'CCWM',\n",
       " 'RankingPoints',\n",
       " 'Wins',\n",
       " 'Losses',\n",
       " 'Ties',\n",
       " 'ClimbPoints',\n",
       " 'AutoPoints',\n",
       " 'OwnershipPoints',\n",
       " 'VaultPoints']"
      ]
     },
     "execution_count": 16,
     "metadata": {},
     "output_type": "execute_result"
    }
   ],
   "source": [
    "list(df)"
   ]
  },
  {
   "cell_type": "code",
   "execution_count": 17,
   "metadata": {},
   "outputs": [],
   "source": [
    "df = df[['team_number','OPR', 'CCWM','RankingPoints','Wins', 'Losses', 'Ties', 'ClimbPoints', 'AutoPoints', 'OwnershipPoints', 'VaultPoints' ]]"
   ]
  },
  {
   "cell_type": "code",
   "execution_count": 18,
   "metadata": {},
   "outputs": [
    {
     "name": "stdout",
     "output_type": "stream",
     "text": [
      "(1000, 11)\n"
     ]
    }
   ],
   "source": [
    "df.head()\n",
    "df = df.head(1000)\n",
    "print(df.shape)"
   ]
  },
  {
   "cell_type": "code",
   "execution_count": 19,
   "metadata": {},
   "outputs": [],
   "source": [
    "cos = cosine_similarity(df)"
   ]
  },
  {
   "cell_type": "code",
   "execution_count": 20,
   "metadata": {},
   "outputs": [
    {
     "data": {
      "text/plain": [
       "1000"
      ]
     },
     "execution_count": 20,
     "metadata": {},
     "output_type": "execute_result"
    }
   ],
   "source": [
    "len(cos)"
   ]
  },
  {
   "cell_type": "code",
   "execution_count": null,
   "metadata": {},
   "outputs": [],
   "source": [
    "_t = np.array(cos)\n",
    "final_set = pd.DataFrame(_t, columns=list(df['team_number']), index=list(df['team_number']))\n",
    "\n",
    "sns.set(font_scale=0.75)\n",
    "plt.figure(figsize=(50,50))\n",
    "colormap = plt.cm.cubehelix_r\n",
    "plt.xticks(fontsize=20)\n",
    "plt.yticks(fontsize=20)\n",
    "sns.heatmap(final_set, annot=True, cmap=colormap, square=True, linewidths=0.2)\n",
    "plt.title(\"Team Similarity\")\n",
    "plt.savefig('Team_Similarity.png')\n",
    "plt.show()"
   ]
  },
  {
   "cell_type": "code",
   "execution_count": null,
   "metadata": {},
   "outputs": [],
   "source": []
  }
 ],
 "metadata": {
  "kernelspec": {
   "display_name": "Python 3",
   "language": "python",
   "name": "python3"
  },
  "language_info": {
   "codemirror_mode": {
    "name": "ipython",
    "version": 3
   },
   "file_extension": ".py",
   "mimetype": "text/x-python",
   "name": "python",
   "nbconvert_exporter": "python",
   "pygments_lexer": "ipython3",
   "version": "3.6.4"
  }
 },
 "nbformat": 4,
 "nbformat_minor": 2
}
