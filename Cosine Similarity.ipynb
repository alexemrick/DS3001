{
 "cells": [
  {
   "cell_type": "code",
   "execution_count": 1,
   "metadata": {
    "collapsed": true
   },
   "outputs": [],
   "source": [
    "import pandas as pd\n",
    "from sklearn.metrics.pairwise import cosine_similarity\n",
    "import matplotlib.pyplot as plt\n",
    "import seaborn as sns\n",
    "import numpy as np\n",
    "%matplotlib inline"
   ]
  },
  {
   "cell_type": "code",
   "execution_count": 19,
   "metadata": {
    "collapsed": true
   },
   "outputs": [],
   "source": [
    "df = pd.read_csv('all_data.csv')"
   ]
  },
  {
   "cell_type": "code",
   "execution_count": 20,
   "metadata": {
    "collapsed": true
   },
   "outputs": [],
   "source": [
    "df = df[['team_number','OPR', 'CCWM','RankingPoints','Wins', 'Losses', 'Ties', 'ClimbPoints', 'AutoPoints', 'OwnershipPoints', 'VaultPoints' ]]"
   ]
  },
  {
   "cell_type": "code",
   "execution_count": 21,
   "metadata": {},
   "outputs": [
    {
     "data": {
      "text/html": [
       "<div>\n",
       "<style>\n",
       "    .dataframe thead tr:only-child th {\n",
       "        text-align: right;\n",
       "    }\n",
       "\n",
       "    .dataframe thead th {\n",
       "        text-align: left;\n",
       "    }\n",
       "\n",
       "    .dataframe tbody tr th {\n",
       "        vertical-align: top;\n",
       "    }\n",
       "</style>\n",
       "<table border=\"1\" class=\"dataframe\">\n",
       "  <thead>\n",
       "    <tr style=\"text-align: right;\">\n",
       "      <th></th>\n",
       "      <th>team_number</th>\n",
       "      <th>OPR</th>\n",
       "      <th>CCWM</th>\n",
       "      <th>RankingPoints</th>\n",
       "      <th>Wins</th>\n",
       "      <th>Losses</th>\n",
       "      <th>Ties</th>\n",
       "      <th>ClimbPoints</th>\n",
       "      <th>AutoPoints</th>\n",
       "      <th>OwnershipPoints</th>\n",
       "      <th>VaultPoints</th>\n",
       "    </tr>\n",
       "  </thead>\n",
       "  <tbody>\n",
       "    <tr>\n",
       "      <th>0</th>\n",
       "      <td>1</td>\n",
       "      <td>95.602681</td>\n",
       "      <td>32.447190</td>\n",
       "      <td>20.500000</td>\n",
       "      <td>8.0</td>\n",
       "      <td>4.0</td>\n",
       "      <td>0.00</td>\n",
       "      <td>432.500000</td>\n",
       "      <td>237.000000</td>\n",
       "      <td>2508.500000</td>\n",
       "      <td>280.000000</td>\n",
       "    </tr>\n",
       "    <tr>\n",
       "      <th>1</th>\n",
       "      <td>4</td>\n",
       "      <td>138.297845</td>\n",
       "      <td>39.964315</td>\n",
       "      <td>14.000000</td>\n",
       "      <td>5.0</td>\n",
       "      <td>5.5</td>\n",
       "      <td>0.00</td>\n",
       "      <td>407.500000</td>\n",
       "      <td>225.000000</td>\n",
       "      <td>2077.500000</td>\n",
       "      <td>295.000000</td>\n",
       "    </tr>\n",
       "    <tr>\n",
       "      <th>2</th>\n",
       "      <td>8</td>\n",
       "      <td>152.021202</td>\n",
       "      <td>90.167168</td>\n",
       "      <td>18.500000</td>\n",
       "      <td>6.0</td>\n",
       "      <td>3.0</td>\n",
       "      <td>0.00</td>\n",
       "      <td>310.000000</td>\n",
       "      <td>282.500000</td>\n",
       "      <td>2107.000000</td>\n",
       "      <td>202.500000</td>\n",
       "    </tr>\n",
       "    <tr>\n",
       "      <th>3</th>\n",
       "      <td>11</td>\n",
       "      <td>84.657441</td>\n",
       "      <td>-18.178829</td>\n",
       "      <td>15.500000</td>\n",
       "      <td>5.0</td>\n",
       "      <td>6.0</td>\n",
       "      <td>0.25</td>\n",
       "      <td>517.500000</td>\n",
       "      <td>249.250000</td>\n",
       "      <td>2028.500000</td>\n",
       "      <td>325.000000</td>\n",
       "    </tr>\n",
       "    <tr>\n",
       "      <th>4</th>\n",
       "      <td>16</td>\n",
       "      <td>195.553695</td>\n",
       "      <td>154.416429</td>\n",
       "      <td>27.666667</td>\n",
       "      <td>8.0</td>\n",
       "      <td>2.0</td>\n",
       "      <td>0.00</td>\n",
       "      <td>626.666667</td>\n",
       "      <td>348.666667</td>\n",
       "      <td>2566.666667</td>\n",
       "      <td>303.333333</td>\n",
       "    </tr>\n",
       "  </tbody>\n",
       "</table>\n",
       "</div>"
      ],
      "text/plain": [
       "   team_number         OPR        CCWM  RankingPoints  Wins  Losses  Ties  \\\n",
       "0            1   95.602681   32.447190      20.500000   8.0     4.0  0.00   \n",
       "1            4  138.297845   39.964315      14.000000   5.0     5.5  0.00   \n",
       "2            8  152.021202   90.167168      18.500000   6.0     3.0  0.00   \n",
       "3           11   84.657441  -18.178829      15.500000   5.0     6.0  0.25   \n",
       "4           16  195.553695  154.416429      27.666667   8.0     2.0  0.00   \n",
       "\n",
       "   ClimbPoints  AutoPoints  OwnershipPoints  VaultPoints  \n",
       "0   432.500000  237.000000      2508.500000   280.000000  \n",
       "1   407.500000  225.000000      2077.500000   295.000000  \n",
       "2   310.000000  282.500000      2107.000000   202.500000  \n",
       "3   517.500000  249.250000      2028.500000   325.000000  \n",
       "4   626.666667  348.666667      2566.666667   303.333333  "
      ]
     },
     "execution_count": 21,
     "metadata": {},
     "output_type": "execute_result"
    }
   ],
   "source": [
    "df.head()"
   ]
  },
  {
   "cell_type": "code",
   "execution_count": 24,
   "metadata": {},
   "outputs": [
    {
     "data": {
      "text/html": [
       "<div>\n",
       "<style>\n",
       "    .dataframe thead tr:only-child th {\n",
       "        text-align: right;\n",
       "    }\n",
       "\n",
       "    .dataframe thead th {\n",
       "        text-align: left;\n",
       "    }\n",
       "\n",
       "    .dataframe tbody tr th {\n",
       "        vertical-align: top;\n",
       "    }\n",
       "</style>\n",
       "<table border=\"1\" class=\"dataframe\">\n",
       "  <thead>\n",
       "    <tr style=\"text-align: right;\">\n",
       "      <th></th>\n",
       "      <th>1</th>\n",
       "      <th>2</th>\n",
       "      <th>3</th>\n",
       "      <th>4</th>\n",
       "      <th>5</th>\n",
       "      <th>6</th>\n",
       "      <th>7</th>\n",
       "      <th>8</th>\n",
       "      <th>9</th>\n",
       "    </tr>\n",
       "  </thead>\n",
       "  <tbody>\n",
       "    <tr>\n",
       "      <th>0</th>\n",
       "      <td>0.542633</td>\n",
       "      <td>0.488095</td>\n",
       "      <td>0.685714</td>\n",
       "      <td>0.333333</td>\n",
       "      <td>0.00</td>\n",
       "      <td>0.369275</td>\n",
       "      <td>0.362360</td>\n",
       "      <td>0.675200</td>\n",
       "      <td>0.486207</td>\n",
       "    </tr>\n",
       "    <tr>\n",
       "      <th>1</th>\n",
       "      <td>0.558866</td>\n",
       "      <td>0.333333</td>\n",
       "      <td>0.428571</td>\n",
       "      <td>0.458333</td>\n",
       "      <td>0.00</td>\n",
       "      <td>0.340649</td>\n",
       "      <td>0.337079</td>\n",
       "      <td>0.537573</td>\n",
       "      <td>0.517241</td>\n",
       "    </tr>\n",
       "    <tr>\n",
       "      <th>2</th>\n",
       "      <td>0.667279</td>\n",
       "      <td>0.440476</td>\n",
       "      <td>0.514286</td>\n",
       "      <td>0.250000</td>\n",
       "      <td>0.00</td>\n",
       "      <td>0.229008</td>\n",
       "      <td>0.458216</td>\n",
       "      <td>0.546993</td>\n",
       "      <td>0.325862</td>\n",
       "    </tr>\n",
       "    <tr>\n",
       "      <th>3</th>\n",
       "      <td>0.433307</td>\n",
       "      <td>0.369048</td>\n",
       "      <td>0.428571</td>\n",
       "      <td>0.500000</td>\n",
       "      <td>0.25</td>\n",
       "      <td>0.466603</td>\n",
       "      <td>0.388167</td>\n",
       "      <td>0.521927</td>\n",
       "      <td>0.579310</td>\n",
       "    </tr>\n",
       "    <tr>\n",
       "      <th>4</th>\n",
       "      <td>0.806024</td>\n",
       "      <td>0.658730</td>\n",
       "      <td>0.685714</td>\n",
       "      <td>0.166667</td>\n",
       "      <td>0.00</td>\n",
       "      <td>0.591603</td>\n",
       "      <td>0.597612</td>\n",
       "      <td>0.693773</td>\n",
       "      <td>0.534483</td>\n",
       "    </tr>\n",
       "  </tbody>\n",
       "</table>\n",
       "</div>"
      ],
      "text/plain": [
       "          1         2         3         4     5         6         7         8  \\\n",
       "0  0.542633  0.488095  0.685714  0.333333  0.00  0.369275  0.362360  0.675200   \n",
       "1  0.558866  0.333333  0.428571  0.458333  0.00  0.340649  0.337079  0.537573   \n",
       "2  0.667279  0.440476  0.514286  0.250000  0.00  0.229008  0.458216  0.546993   \n",
       "3  0.433307  0.369048  0.428571  0.500000  0.25  0.466603  0.388167  0.521927   \n",
       "4  0.806024  0.658730  0.685714  0.166667  0.00  0.591603  0.597612  0.693773   \n",
       "\n",
       "          9  \n",
       "0  0.486207  \n",
       "1  0.517241  \n",
       "2  0.325862  \n",
       "3  0.579310  \n",
       "4  0.534483  "
      ]
     },
     "execution_count": 24,
     "metadata": {},
     "output_type": "execute_result"
    }
   ],
   "source": [
    "cols = list(df)\n",
    "test = df[cols[1:]]\n",
    "team_name = df[cols[0]]\n",
    "test.head()"
   ]
  },
  {
   "cell_type": "code",
   "execution_count": 26,
   "metadata": {},
   "outputs": [
    {
     "data": {
      "text/plain": [
       "pandas.core.series.Series"
      ]
     },
     "execution_count": 26,
     "metadata": {},
     "output_type": "execute_result"
    }
   ],
   "source": [
    "type(team_name)"
   ]
  },
  {
   "cell_type": "code",
   "execution_count": 23,
   "metadata": {},
   "outputs": [
    {
     "name": "stdout",
     "output_type": "stream",
     "text": [
      "(3617L, 10L)\n"
     ]
    },
    {
     "data": {
      "text/html": [
       "<div>\n",
       "<style>\n",
       "    .dataframe thead tr:only-child th {\n",
       "        text-align: right;\n",
       "    }\n",
       "\n",
       "    .dataframe thead th {\n",
       "        text-align: left;\n",
       "    }\n",
       "\n",
       "    .dataframe tbody tr th {\n",
       "        vertical-align: top;\n",
       "    }\n",
       "</style>\n",
       "<table border=\"1\" class=\"dataframe\">\n",
       "  <thead>\n",
       "    <tr style=\"text-align: right;\">\n",
       "      <th></th>\n",
       "      <th>0</th>\n",
       "      <th>1</th>\n",
       "      <th>2</th>\n",
       "      <th>3</th>\n",
       "      <th>4</th>\n",
       "      <th>5</th>\n",
       "      <th>6</th>\n",
       "      <th>7</th>\n",
       "      <th>8</th>\n",
       "      <th>9</th>\n",
       "    </tr>\n",
       "  </thead>\n",
       "  <tbody>\n",
       "    <tr>\n",
       "      <th>0</th>\n",
       "      <td>0.448270</td>\n",
       "      <td>0.542633</td>\n",
       "      <td>0.488095</td>\n",
       "      <td>0.685714</td>\n",
       "      <td>0.333333</td>\n",
       "      <td>0.00</td>\n",
       "      <td>0.369275</td>\n",
       "      <td>0.362360</td>\n",
       "      <td>0.675200</td>\n",
       "      <td>0.486207</td>\n",
       "    </tr>\n",
       "    <tr>\n",
       "      <th>1</th>\n",
       "      <td>0.588325</td>\n",
       "      <td>0.558866</td>\n",
       "      <td>0.333333</td>\n",
       "      <td>0.428571</td>\n",
       "      <td>0.458333</td>\n",
       "      <td>0.00</td>\n",
       "      <td>0.340649</td>\n",
       "      <td>0.337079</td>\n",
       "      <td>0.537573</td>\n",
       "      <td>0.517241</td>\n",
       "    </tr>\n",
       "    <tr>\n",
       "      <th>2</th>\n",
       "      <td>0.633343</td>\n",
       "      <td>0.667279</td>\n",
       "      <td>0.440476</td>\n",
       "      <td>0.514286</td>\n",
       "      <td>0.250000</td>\n",
       "      <td>0.00</td>\n",
       "      <td>0.229008</td>\n",
       "      <td>0.458216</td>\n",
       "      <td>0.546993</td>\n",
       "      <td>0.325862</td>\n",
       "    </tr>\n",
       "    <tr>\n",
       "      <th>3</th>\n",
       "      <td>0.412365</td>\n",
       "      <td>0.433307</td>\n",
       "      <td>0.369048</td>\n",
       "      <td>0.428571</td>\n",
       "      <td>0.500000</td>\n",
       "      <td>0.25</td>\n",
       "      <td>0.466603</td>\n",
       "      <td>0.388167</td>\n",
       "      <td>0.521927</td>\n",
       "      <td>0.579310</td>\n",
       "    </tr>\n",
       "    <tr>\n",
       "      <th>4</th>\n",
       "      <td>0.776146</td>\n",
       "      <td>0.806024</td>\n",
       "      <td>0.658730</td>\n",
       "      <td>0.685714</td>\n",
       "      <td>0.166667</td>\n",
       "      <td>0.00</td>\n",
       "      <td>0.591603</td>\n",
       "      <td>0.597612</td>\n",
       "      <td>0.693773</td>\n",
       "      <td>0.534483</td>\n",
       "    </tr>\n",
       "  </tbody>\n",
       "</table>\n",
       "</div>"
      ],
      "text/plain": [
       "          0         1         2         3         4     5         6         7  \\\n",
       "0  0.448270  0.542633  0.488095  0.685714  0.333333  0.00  0.369275  0.362360   \n",
       "1  0.588325  0.558866  0.333333  0.428571  0.458333  0.00  0.340649  0.337079   \n",
       "2  0.633343  0.667279  0.440476  0.514286  0.250000  0.00  0.229008  0.458216   \n",
       "3  0.412365  0.433307  0.369048  0.428571  0.500000  0.25  0.466603  0.388167   \n",
       "4  0.776146  0.806024  0.658730  0.685714  0.166667  0.00  0.591603  0.597612   \n",
       "\n",
       "          8         9  \n",
       "0  0.675200  0.486207  \n",
       "1  0.537573  0.517241  \n",
       "2  0.546993  0.325862  \n",
       "3  0.521927  0.579310  \n",
       "4  0.693773  0.534483  "
      ]
     },
     "execution_count": 23,
     "metadata": {},
     "output_type": "execute_result"
    }
   ],
   "source": [
    "from sklearn import preprocessing\n",
    "x = test.values #returns a numpy array\n",
    "print x.shape\n",
    "min_max_scaler = preprocessing.MinMaxScaler()\n",
    "x_scaled = min_max_scaler.fit_transform(x)\n",
    "df = pd.DataFrame(x_scaled)\n",
    "df.head()"
   ]
  },
  {
   "cell_type": "code",
   "execution_count": 8,
   "metadata": {
    "collapsed": true
   },
   "outputs": [],
   "source": [
    "cos = cosine_similarity(df)"
   ]
  },
  {
   "cell_type": "code",
   "execution_count": 9,
   "metadata": {},
   "outputs": [
    {
     "data": {
      "text/plain": [
       "array([[ 1.        ,  0.99886517,  0.99786236, ...,  0.30633861,\n",
       "         0.21502957,  0.20862301],\n",
       "       [ 0.99886517,  1.        ,  0.99733391, ...,  0.30886117,\n",
       "         0.21612387,  0.21055162],\n",
       "       [ 0.99786236,  0.99733391,  1.        , ...,  0.30860068,\n",
       "         0.21706494,  0.21088575],\n",
       "       ..., \n",
       "       [ 0.30633861,  0.30886117,  0.30860068, ...,  1.        ,\n",
       "         0.9947874 ,  0.99447258],\n",
       "       [ 0.21502957,  0.21612387,  0.21706494, ...,  0.9947874 ,\n",
       "         1.        ,  0.99966696],\n",
       "       [ 0.20862301,  0.21055162,  0.21088575, ...,  0.99447258,\n",
       "         0.99966696,  1.        ]])"
      ]
     },
     "execution_count": 9,
     "metadata": {},
     "output_type": "execute_result"
    }
   ],
   "source": [
    "cos"
   ]
  },
  {
   "cell_type": "code",
   "execution_count": null,
   "metadata": {
    "collapsed": true
   },
   "outputs": [],
   "source": [
    "_t = np.array(cos)\n",
    "final_set = pd.DataFrame(_t, columns=list(df['team_number']), index=list(df['team_number']))\n",
    "\n",
    "sns.set(font_scale=0.75)\n",
    "plt.figure(figsize=(50,50))\n",
    "colormap = plt.cm.cubehelix_r\n",
    "plt.xticks(fontsize=20)\n",
    "plt.yticks(fontsize=20)\n",
    "sns.heatmap(final_set, annot=True, cmap=colormap, square=True, linewidths=0.2)\n",
    "plt.title(\"Team Similarity\")\n",
    "plt.savefig('Team_Similarity.png')\n",
    "plt.show()"
   ]
  }
 ],
 "metadata": {
  "kernelspec": {
   "display_name": "Python 2",
   "language": "python",
   "name": "python2"
  },
  "language_info": {
   "codemirror_mode": {
    "name": "ipython",
    "version": 2
   },
   "file_extension": ".py",
   "mimetype": "text/x-python",
   "name": "python",
   "nbconvert_exporter": "python",
   "pygments_lexer": "ipython2",
   "version": "2.7.14"
  }
 },
 "nbformat": 4,
 "nbformat_minor": 2
}
